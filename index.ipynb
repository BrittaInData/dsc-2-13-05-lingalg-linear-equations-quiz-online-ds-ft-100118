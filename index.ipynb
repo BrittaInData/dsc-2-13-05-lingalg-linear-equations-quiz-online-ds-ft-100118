{
 "cells": [
  {
   "cell_type": "markdown",
   "metadata": {},
   "source": [
    "# Systems of Linear Equations - Quiz\n",
    "\n",
    "## Introduction\n",
    "Following scenarios present problems that can be solved as system of equations, while performing substitutions and eliminations as we saw in the previous lesson. \n",
    "\n",
    "* Solve these problems by hand, showing all the steps to work out the unknown variable values \n",
    "* Verify your answers by showing the calculated values satisfy all equations\n",
    "\n",
    "## Objectives\n",
    "You will be able to:\n",
    "* Describe a system of linear equations for solving simple analytical problems\n",
    "* Solve a system of equations using elimination and substitution\n",
    "\n",
    "## Exercise 1\n",
    "#### Joe paid 12 dollars for 4 cups of coffee and 4 cups of tea. 3 cups of coffee cost as much as 2 cups of tea. \n",
    "\n",
    "#### What would be the total cost of 5 cups of coffee and 5 cups of tea ?"
   ]
  },
  {
   "cell_type": "markdown",
   "metadata": {},
   "source": [
    "## Solution\n",
    "\n",
    "> Let x be the unit price of coffee and y be the unit price of tea"
   ]
  },
  {
   "cell_type": "code",
   "execution_count": 1,
   "metadata": {},
   "outputs": [],
   "source": [
    "# eq. A: 12 dollars = 4 cups coffee + 4 cups of tea\n",
    "# 12 = 4x + 4y\n",
    "\n",
    "# eq. B: 3 cups of coffee cost as much as 2 cups of tea\n",
    "# 3x = 2y"
   ]
  },
  {
   "cell_type": "code",
   "execution_count": 2,
   "metadata": {},
   "outputs": [],
   "source": [
    "# form eq. B to y:\n",
    "# y = 1.5x\n",
    "\n",
    "# substitute y in eq. A:\n",
    "# 12 = 4x + 4(1.5x)\n",
    "# 12 = 4x + 6x\n",
    "# 12 = 10x\n",
    "# x = 12/10 = 6/5\n",
    "\n",
    "# substitute x in eq. B:\n",
    "# 3*6/5 = 2y\n",
    "# 18/5 = 2y\n",
    "# 18/5 * 1/2 = y\n",
    "# y = 9/5"
   ]
  },
  {
   "cell_type": "code",
   "execution_count": 3,
   "metadata": {},
   "outputs": [],
   "source": [
    "# check in eq. A:\n",
    "# 12 = 4x + 4y\n",
    "# 12 = 4*6/5 + 4*9/5\n",
    "# 12 = 24/5 + 36/5\n",
    "# 12 = 60/5 = 12 TRUE\n",
    "\n",
    "# check in eq. B:\n",
    "# 3x = 2y\n",
    "# 3*6/5 = 2*9/5\n",
    "# 18/5 = 18/5 TRUE"
   ]
  },
  {
   "cell_type": "markdown",
   "metadata": {},
   "source": [
    "## Exercise 2\n",
    "\n",
    "#### Jim has more money than Bob.  If Jim gave Bob 20 dollars , they would have the same amount.  While if Bob gave Jim 22 dollars, Jim would then have twice as much as Bob. \n",
    "\n",
    "#### How much does each one actually have?"
   ]
  },
  {
   "cell_type": "markdown",
   "metadata": {},
   "source": [
    "## Solution\n",
    "> Let x be the amount of money that Jim has and y be the amount that Bob has."
   ]
  },
  {
   "cell_type": "code",
   "execution_count": 4,
   "metadata": {},
   "outputs": [],
   "source": [
    "# eq. A: if Jim(x) gave Bob(y) 20 dollars, they would have the same amount\n",
    "# x - 20 = y + 20\n",
    "\n",
    "# eq. B: if Bob(y) gave Jim(x) 22 dollars, Jim would then have twice as much as Bob\n",
    "# 2(y - 22) = x + 22\n",
    "# 2y - 44 = x + 22"
   ]
  },
  {
   "cell_type": "code",
   "execution_count": 5,
   "metadata": {},
   "outputs": [],
   "source": [
    "# form eq. A to x:\n",
    "# x - 20 = y + 20\n",
    "# x = y + 40\n",
    "\n",
    "# substitute x in eq. B:\n",
    "# 2y - 44 = y + 40 + 22\n",
    "# 2y = y + 66\n",
    "# y = 106\n",
    "\n",
    "# substitute y in eq. A:\n",
    "# x - 20 = 106 + 20\n",
    "# x = 146"
   ]
  },
  {
   "cell_type": "code",
   "execution_count": 6,
   "metadata": {},
   "outputs": [],
   "source": [
    "# check in eq. A:\n",
    "# x - 20 = y + 20\n",
    "# 146 - 20 = 106 + 20\n",
    "# 126 = 126 TRUE\n",
    "\n",
    "# check in eq. B:\n",
    "# 2(y - 22) = x + 22\n",
    "# 2(106 - 22) = 146 + 22\n",
    "# 168 = 168 TRUE"
   ]
  },
  {
   "cell_type": "markdown",
   "metadata": {},
   "source": [
    "## Exercise 3\n",
    "\n",
    "#### Mia has 30 coins, consisting of quarters (25 cents) and dimes (10 cents), which total to the amount 5.70 dollars.  \n",
    "#### How many of each does she have?"
   ]
  },
  {
   "cell_type": "code",
   "execution_count": 7,
   "metadata": {},
   "outputs": [],
   "source": [
    "# eq. A: \n",
    "# 30 = x + y\n",
    "\n",
    "# eq. B: \n",
    "# 5.70 = 0.25x + 0.10y"
   ]
  },
  {
   "cell_type": "code",
   "execution_count": 8,
   "metadata": {},
   "outputs": [],
   "source": [
    "# form eq. A to x:\n",
    "# x = 30 - y\n",
    "\n",
    "# substitute x in eq. B:\n",
    "# 5.70 = 0.25(30 - y) + 0.10y\n",
    "# 5.70 = 7.50 - 0.25y + 0.10y\n",
    "# -1.80 = -0.15y\n",
    "# y = 12\n",
    "\n",
    "# substitute y in eq. A:\n",
    "# 30 = x + 12\n",
    "# x = 18"
   ]
  },
  {
   "cell_type": "code",
   "execution_count": 9,
   "metadata": {},
   "outputs": [],
   "source": [
    "# check in eq. A:\n",
    "# 30 = x + y\n",
    "# 30 = 18 + 12 TRUE\n",
    "\n",
    "# check in eq. B:\n",
    "# 5.70 = 0.25x + 0.10y\n",
    "# 5.70 = 0.25*18 + 0.10*12\n",
    "# 5.70 = 4.50 + 1.20 TRUE"
   ]
  },
  {
   "cell_type": "markdown",
   "metadata": {},
   "source": [
    "## Level up - Optional \n",
    "For more pratice with linear equations, Visit following links for more complex equations and online answers verification:\n",
    "\n",
    "* https://www.transum.org/software/SW/Starter_of_the_day/Students/Simultaneous_Equations.asp?Level=6\n",
    "* https://www.transum.org/software/SW/Starter_of_the_day/Students/Simultaneous_Equations.asp?Level=7"
   ]
  },
  {
   "cell_type": "markdown",
   "metadata": {},
   "source": [
    "## Summary\n",
    "In this lesson, we saw how to solve linear equations by hand to find the co-efficient values. We shall now move forward to have a deeper look into vectors and matrices and how Python and Numpy can help us solve more complex equations in an analytical context. "
   ]
  }
 ],
 "metadata": {
  "kernelspec": {
   "display_name": "Python 3",
   "language": "python",
   "name": "python3"
  },
  "language_info": {
   "codemirror_mode": {
    "name": "ipython",
    "version": 3
   },
   "file_extension": ".py",
   "mimetype": "text/x-python",
   "name": "python",
   "nbconvert_exporter": "python",
   "pygments_lexer": "ipython3",
   "version": "3.6.6"
  }
 },
 "nbformat": 4,
 "nbformat_minor": 2
}
